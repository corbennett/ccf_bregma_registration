{
 "cells": [
  {
   "cell_type": "markdown",
   "metadata": {},
   "source": [
    "# Use sdk to get experiment IDs and CCF injection coords"
   ]
  },
  {
   "cell_type": "code",
   "execution_count": 1,
   "metadata": {
    "collapsed": false
   },
   "outputs": [
    {
     "name": "stdout",
     "output_type": "stream",
     "text": [
      "2918 total experiments\n"
     ]
    }
   ],
   "source": [
    "from allensdk.core.mouse_connectivity_cache import MouseConnectivityCache\n",
    "import numpy as np\n",
    "\n",
    "mcc = MouseConnectivityCache()\n",
    "\n",
    "# open up a list of all of the experiments\n",
    "all_experiments = mcc.get_experiments(dataframe=True)\n",
    "print(\"%d total experiments\" % len(all_experiments))"
   ]
  },
  {
   "cell_type": "code",
   "execution_count": 11,
   "metadata": {
    "collapsed": false
   },
   "outputs": [],
   "source": [
    "expIDs = np.array(all_experiments['id'])\n",
    "ccfCoords = np.array(all_experiments['injection-coordinates'])\n",
    "inj_structures = np.array(all_experiments['injection-structures'])"
   ]
  },
  {
   "cell_type": "markdown",
   "metadata": {},
   "source": [
    "# Use api to get bregma injection coords (I don't see how to get both of them from api or sdk individually...)"
   ]
  },
  {
   "cell_type": "code",
   "execution_count": 39,
   "metadata": {
    "collapsed": false
   },
   "outputs": [],
   "source": [
    "from xml.dom.minidom import parse, parseString\n",
    "import urllib\n",
    "\n",
    "bregmaCoords = []\n",
    "angle = []\n",
    "registrationPoint = []\n",
    "for expID in expIDs:\n",
    "    url = r'http://api.brain-map.org/api/v2/data/query.xml?criteria=model::SectionDataSet,rma::criteria,[id$eq' + str(expID) + '],rma::include,specimen(stereotaxic_injections(primary_injection_structure,structures,stereotaxic_injection_coordinates)),equalization,sub_images,rma::options[order$eq%27sub_images.section_number$asc%27]'\n",
    "    xmlstring = urllib.urlopen(url).read()\n",
    "    xml = parseString(xmlstring)\n",
    "    \n",
    "    angle.append(float(xml.getElementsByTagName('angle')[0].childNodes[0].nodeValue))\n",
    "    registrationPoint.append(xml.getElementsByTagName('registration-point')[0].childNodes[0].nodeValue)\n",
    "    \n",
    "    #looks like there were injections at multiple depths for some experiments--there will be\n",
    "    #an ap, dv, ml coordinate for each one\n",
    "    ap = xml.getElementsByTagName('coordinates-ap')\n",
    "    apCoords = [float(a.childNodes[0].nodeValue) for a in ap]\n",
    "    dv = xml.getElementsByTagName('coordinates-dv')\n",
    "    dvCoords = [float(d.childNodes[0].nodeValue) for d in dv]\n",
    "    ml = xml.getElementsByTagName('coordinates-ml')\n",
    "    mlCoords = [float(m.childNodes[0].nodeValue) for m in ml]\n",
    "    \n",
    "    bregmaCoords.append([apCoords, dvCoords, mlCoords])\n",
    "    "
   ]
  },
  {
   "cell_type": "code",
   "execution_count": 44,
   "metadata": {
    "collapsed": false
   },
   "outputs": [
    {
     "name": "stdout",
     "output_type": "stream",
     "text": [
      "[[2.1, 2.1], [1.0, 0.4], [2.4, 2.4]]\n",
      "[2460, 2960, 8170]\n"
     ]
    }
   ],
   "source": [
    "#Example: get the bregma coordinates for the third experiment (for which there were two injections)\n",
    "print(bregmaCoords[2])\n",
    "\n",
    "#and the CCF coords (only one injection location... maybe just average over the multiple injections?)\n",
    "print(ccfCoords[2])\n"
   ]
  },
  {
   "cell_type": "code",
   "execution_count": null,
   "metadata": {
    "collapsed": true
   },
   "outputs": [],
   "source": []
  }
 ],
 "metadata": {
  "kernelspec": {
   "display_name": "Python 2",
   "language": "python",
   "name": "python2"
  },
  "language_info": {
   "codemirror_mode": {
    "name": "ipython",
    "version": 2
   },
   "file_extension": ".py",
   "mimetype": "text/x-python",
   "name": "python",
   "nbconvert_exporter": "python",
   "pygments_lexer": "ipython2",
   "version": "2.7.13"
  }
 },
 "nbformat": 4,
 "nbformat_minor": 0
}
